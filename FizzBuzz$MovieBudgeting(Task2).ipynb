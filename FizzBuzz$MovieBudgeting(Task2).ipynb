{
 "cells": [
  {
   "cell_type": "markdown",
   "metadata": {},
   "source": [
    "### Fizz Buzz\n"
   ]
  },
  {
   "cell_type": "code",
   "execution_count": null,
   "metadata": {},
   "outputs": [],
   "source": [
    "limit=int(input(\"Enter Limit\"))\n",
    "for i in range(1,limit+1):\n",
    "    if i%3==0 and i%5==0:\n",
    "        print(\"FizzBuzz\")\n",
    "    elif i%3==0:\n",
    "        print(\"Fizz\")\n",
    "    elif i%5==0:\n",
    "        print('Buzz')\n",
    "    else:\n",
    "        print(i)\n"
   ]
  },
  {
   "cell_type": "markdown",
   "metadata": {},
   "source": [
    "### Movie Budget\n"
   ]
  },
  {
   "cell_type": "code",
   "execution_count": null,
   "metadata": {},
   "outputs": [],
   "source": [
    "movies = [\n",
    "    (\"Eternal Sunshine of the Spotless Mind\", 20000000),\n",
    "    (\"Memento\", 9000000),\n",
    "    (\"Requiem for a Dream\", 4500000),\n",
    "    (\"Pirates of the Caribbean: On Stranger Tides\", 379000000),\n",
    "    (\"Avengers: Age of Ultron\", 365000000),\n",
    "    (\"Avengers: Endgame\", 356000000),\n",
    "    (\"Incredibles 2\", 200000000)\n",
    "]\n",
    "def AverageBudget(movies):\n",
    "    total_budget=0\n",
    "    n=0\n",
    "    for movie, budget in movies:\n",
    "        total_budget=total_budget+budget\n",
    "        n=n+1\n",
    "    avg_budget=total_budget/n\n",
    "    return avg_budget\n",
    "def HighBudgetMovies(movies,avg_budget):\n",
    "    list=[]\n",
    "    for movie, budget in movies:\n",
    "        if budget>avg_budget:\n",
    "            list.append((movie, budget, budget-avg_budget))\n",
    "    return list\n",
    "def add_movies(movies):\n",
    "    no_movies=int(input(\"How many movies would you like to add? \"))\n",
    "    for j in range(no_movies):\n",
    "        name=input(\"Enter the movie name: \")\n",
    "        budget=int(input(\"Enter the movie budget: \"))\n",
    "        movies.append((name, budget))\n",
    "\n",
    "def main():\n",
    "    add_more=input(\"Do you want to add more movies? (y/n): \").lower()\n",
    "    if add_more==\"y\":\n",
    "        add_movies(movies)\n",
    "    average_budget=AverageBudget(movies)\n",
    "    print(f\"The average budget is:{average_budget}\")\n",
    "\n",
    "    high_budget_movies = HighBudgetMovies(movies, average_budget)\n",
    "    for movie, budget, difference in high_budget_movies:\n",
    "        print(f\"{movie} budget is {budget} which is {difference} more than the average.\")\n",
    "\n",
    "    print(f\"Number of movies with a budget higher than the average: {len(high_budget_movies)}\")\n",
    "\n",
    "main()\n"
   ]
  }
 ],
 "metadata": {
  "language_info": {
   "name": "python"
  }
 },
 "nbformat": 4,
 "nbformat_minor": 2
}
