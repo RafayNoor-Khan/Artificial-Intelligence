{
 "cells": [
  {
   "cell_type": "markdown",
   "metadata": {},
   "source": [
    "### Remove Punctuations"
   ]
  },
  {
   "cell_type": "code",
   "execution_count": 3,
   "metadata": {},
   "outputs": [
    {
     "name": "stdout",
     "output_type": "stream",
     "text": [
      "Input was: s#$t@a)R\n",
      "String Without any Punctuation is: staR\n"
     ]
    }
   ],
   "source": [
    "punctuations = ['!', '(', ')', '-', '[', ']', '{', '}', ';', ':', \"'\", '\"','\\\\', ',', '<', '>', '.', '/', '?', '@', '#', '$', '%', '^', '&', '*', '_', '~']\n",
    "text=input('Enter Text')\n",
    "str=''\n",
    "for letter in text:\n",
    "    if letter in punctuations:\n",
    "        pass\n",
    "    else:\n",
    "        str=str+letter\n",
    "print(\"Input was:\",text)\n",
    "print('String Without any Punctuation is:',str)"
   ]
  },
  {
   "cell_type": "markdown",
   "metadata": {},
   "source": [
    "### Sort Text In Alphabetical Order\n"
   ]
  },
  {
   "cell_type": "code",
   "execution_count": 8,
   "metadata": {},
   "outputs": [
    {
     "name": "stdout",
     "output_type": "stream",
     "text": [
      "Input was: car\n",
      "String In Alphabetical Order: acr\n"
     ]
    }
   ],
   "source": [
    "text=input('Enter Text')\n",
    "alphabets = ['a', 'b', 'c', 'd', 'e', 'f', 'g', 'h', 'i', 'j', 'k', 'l', 'm', 'n', 'o', 'p', 'q', 'r', 's', 't','u', 'v', 'w', 'x', 'y', 'z']\n",
    "result=''\n",
    "for letter in alphabets:\n",
    "    if letter in text:\n",
    "        result=result+letter\n",
    "\n",
    "print(\"Input was:\",text)\n",
    "print('String In Alphabetical Order:',result)\n"
   ]
  },
  {
   "cell_type": "markdown",
   "metadata": {},
   "source": [
    "### Code for LUHN Algorithm "
   ]
  },
  {
   "cell_type": "code",
   "execution_count": 105,
   "metadata": {},
   "outputs": [
    {
     "name": "stdout",
     "output_type": "stream",
     "text": [
      "68\n",
      "Invalid\n"
     ]
    }
   ],
   "source": [
    "def verification(card):\n",
    "    card_num=[]\n",
    "    list1=[]\n",
    "    for num in card:\n",
    "        card_num.append(int(num))\n",
    "\n",
    "    last_digit=card_num.pop()\n",
    "    card_num=card_num[::-1]\n",
    "    card_num.append(\"X\")\n",
    "    new_num=[]\n",
    "    for index, number in enumerate(card_num):\n",
    "        if number!='X' and index%2==0: \n",
    "            number=number * 2\n",
    "        new_num.append(number)\n",
    "\n",
    "    for k in new_num:\n",
    "        if k!='X' and k > 9:\n",
    "            k=k-9\n",
    "        list1.append(k)\n",
    "    list1.pop()\n",
    "    list1.append(last_digit)\n",
    "    result_val=sum(list1)\n",
    "    print(result_val)\n",
    "    if result_val%10==0:\n",
    "        print(\"Valid\")\n",
    "    else:\n",
    "        print(\"Invalid\")\n",
    "        \n",
    "card=input('Enter your Card Number')\n",
    "if len(card)!=16:\n",
    "    print('Invalid number')\n",
    "else:\n",
    "    verification(card)"
   ]
  }
 ],
 "metadata": {
  "kernelspec": {
   "display_name": "Python 3",
   "language": "python",
   "name": "python3"
  },
  "language_info": {
   "codemirror_mode": {
    "name": "ipython",
    "version": 3
   },
   "file_extension": ".py",
   "mimetype": "text/x-python",
   "name": "python",
   "nbconvert_exporter": "python",
   "pygments_lexer": "ipython3",
   "version": "3.12.3"
  }
 },
 "nbformat": 4,
 "nbformat_minor": 2
}
