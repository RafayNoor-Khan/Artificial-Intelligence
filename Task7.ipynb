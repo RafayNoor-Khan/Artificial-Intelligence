{
 "cells": [
  {
   "cell_type": "markdown",
   "metadata": {},
   "source": [
    "### *lab 7 Task*\n",
    "#### Task 1: Code of A* Algorithm (without importing any library)\n"
   ]
  },
  {
   "cell_type": "code",
   "execution_count": 12,
   "metadata": {},
   "outputs": [],
   "source": [
    "graph = {\n",
    "    'A': {'B': 1, 'C': 3},\n",
    "    'B': {'A': 1, 'D': 1, 'E': 5},\n",
    "    'C': {'A': 3, 'E': 2},\n",
    "    'D': {'B': 1, 'E': 1, 'F': 2},\n",
    "    'E': {'B': 5, 'C': 2, 'D': 1, 'F': 2},\n",
    "    'F': {'D': 2, 'E': 2, 'G': 1},\n",
    "    'G': {'F': 1}\n",
    "}"
   ]
  },
  {
   "cell_type": "code",
   "execution_count": 22,
   "metadata": {},
   "outputs": [
    {
     "name": "stdout",
     "output_type": "stream",
     "text": [
      "Path found: ['A', 'B', 'D', 'F', 'G']\n"
     ]
    }
   ],
   "source": [
    "def get_neighbour(candidate_node):\n",
    "    if candidate_node in graph:\n",
    "        return graph[candidate_node].items()\n",
    "    else:\n",
    "        return None\n",
    "def heuristic(current_node):\n",
    "    h = {\n",
    "        'A': 7,  \n",
    "        'B': 6,  \n",
    "        'C': 5, \n",
    "        'D': 4,  \n",
    "        'E': 3, \n",
    "        'F': 1,  \n",
    "        'G': 0  \n",
    "    }\n",
    "    return h[current_node]\n",
    "\n",
    "def A_Star(start_node, goal_node):\n",
    "    open_list = [start_node]\n",
    "    closed_list = []\n",
    "    g = {} \n",
    "    parents = {} \n",
    "    g[start_node] = 0\n",
    "    parents[start_node] = start_node\n",
    "    while len(open_list) > 0:\n",
    "        current_node= None\n",
    "        for candidate_node in open_list:\n",
    "            if current_node is None or g[candidate_node] + heuristic(candidate_node) < g[current_node] + heuristic(current_node):\n",
    "                current_node=candidate_node\n",
    "        if current_node == goal_node:\n",
    "            path = []\n",
    "            while parents[current_node] != current_node:\n",
    "                path.append(current_node)\n",
    "                current_node = parents[current_node]\n",
    "            path.append(start_node)\n",
    "            path.reverse()\n",
    "            return path\n",
    "        for (neighbor_node, weight) in get_neighbour(current_node):\n",
    "            if neighbor_node not in open_list and neighbor_node not in closed_list:\n",
    "                open_list.append(neighbor_node)\n",
    "                parents[neighbor_node] = current_node\n",
    "                g[neighbor_node] = g[current_node] + weight\n",
    "            else:\n",
    "                if g[neighbor_node] > g[current_node] + weight:\n",
    "                    g[neighbor_node] = g[current_node] + weight\n",
    "                    parents[neighbor_node] = current_node\n",
    "                    if neighbor_node in closed_list:\n",
    "                        closed_list.remove(neighbor_node)\n",
    "                        open_list.append(neighbor_node)\n",
    "        open_list.remove(current_node)\n",
    "        closed_list.append(current_node)\n",
    "    return None\n",
    "path = A_Star('A','G')\n",
    "print(\"Path found:\", path)\n"
   ]
  }
 ],
 "metadata": {
  "kernelspec": {
   "display_name": "Python 3",
   "language": "python",
   "name": "python3"
  },
  "language_info": {
   "codemirror_mode": {
    "name": "ipython",
    "version": 3
   },
   "file_extension": ".py",
   "mimetype": "text/x-python",
   "name": "python",
   "nbconvert_exporter": "python",
   "pygments_lexer": "ipython3",
   "version": "3.12.0"
  }
 },
 "nbformat": 4,
 "nbformat_minor": 2
}
