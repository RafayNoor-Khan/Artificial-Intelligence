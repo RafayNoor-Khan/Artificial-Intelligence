{
 "cells": [
  {
   "cell_type": "code",
   "execution_count": 9,
   "metadata": {},
   "outputs": [
    {
     "name": "stdout",
     "output_type": "stream",
     "text": [
      "Goal Founded F\n",
      "['A', 'B', 'D', 'E', 'C', 'F']\n"
     ]
    }
   ],
   "source": [
    "tree = {\n",
    "    'A': ['B', 'C'],\n",
    "    'B': ['D', 'E'],\n",
    "    'C': ['F', 'G'],\n",
    "    'D': [],\n",
    "    'E': [],\n",
    "    'F': [],\n",
    "    'G': [],\n",
    "}\n",
    "visited=[]\n",
    "def dfs(start_node,goal_node):\n",
    "    stack=[start_node]\n",
    "    while stack:\n",
    "        node=stack.pop()\n",
    "        if node not in visited:\n",
    "            visited.append(node)\n",
    "            if node==goal_node:\n",
    "                print(\"Goal Founded\",node)\n",
    "                return\n",
    "        for neighbour in reversed(tree[node]):\n",
    "            if neighbour not in visited:\n",
    "                stack.append(neighbour)\n",
    "dfs('A','F')\n",
    "print(visited)"
   ]
  },
  {
   "cell_type": "code",
   "execution_count": 6,
   "metadata": {},
   "outputs": [
    {
     "name": "stdout",
     "output_type": "stream",
     "text": [
      "Preorder Traversal:\n",
      "A B D C E G F H I \n",
      "Postorder Traversal:\n",
      "D B G E H I F C A \n",
      "Inorder Traversal:\n",
      "B D A E G C H F I "
     ]
    }
   ],
   "source": [
    "tree1={\n",
    "    'A':['B','C'],\n",
    "    'B':['D'],\n",
    "    'C':['E','F'],\n",
    "    'D':[None],\n",
    "    'E':['G'],\n",
    "    'F':['H','I'],\n",
    "    'G':[],\n",
    "    'H':[],\n",
    "    'I':[]\n",
    "}\n",
    "def preorder_traversal(tree,node):\n",
    "    if node:\n",
    "        print(node, end=' ')\n",
    "        for child in tree[node]:\n",
    "            preorder_traversal(tree, child)\n",
    "def postorder_traversal(tree, node):\n",
    "    if node:\n",
    "        for child in tree[node]:\n",
    "            postorder_traversal(tree, child)\n",
    "        print(node, end=' ')\n",
    "def inorder_traversal(tree, node):\n",
    "    if node:\n",
    "        num_children = len(tree[node])\n",
    "        for i in range(num_children // 2):\n",
    "            inorder_traversal(tree, tree[node][i])\n",
    "        print(node, end=' ')\n",
    "        for i in range(num_children // 2, num_children):\n",
    "            inorder_traversal(tree, tree[node][i])\n",
    "print(\"Preorder Traversal:\")\n",
    "preorder_traversal(tree1, 'A')\n",
    "print(\"\\nPostorder Traversal:\")\n",
    "postorder_traversal(tree1, 'A')\n",
    "print(\"\\nInorder Traversal:\")\n",
    "inorder_traversal(tree1, 'A')\n"
   ]
  },
  {
   "cell_type": "code",
   "execution_count": null,
   "metadata": {},
   "outputs": [],
   "source": []
  }
 ],
 "metadata": {
  "kernelspec": {
   "display_name": "Python 3",
   "language": "python",
   "name": "python3"
  },
  "language_info": {
   "codemirror_mode": {
    "name": "ipython",
    "version": 3
   },
   "file_extension": ".py",
   "mimetype": "text/x-python",
   "name": "python",
   "nbconvert_exporter": "python",
   "pygments_lexer": "ipython3",
   "version": "3.12.3"
  }
 },
 "nbformat": 4,
 "nbformat_minor": 2
}
