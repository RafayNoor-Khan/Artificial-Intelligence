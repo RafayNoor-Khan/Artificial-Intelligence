{
 "cells": [
  {
   "cell_type": "markdown",
   "metadata": {},
   "source": [
    "### *Lab 8 Task*\n",
    "#### Task 1: Code of \"Min Max Algorithm\""
   ]
  },
  {
   "cell_type": "code",
   "execution_count": 10,
   "metadata": {},
   "outputs": [
    {
     "name": "stdout",
     "output_type": "stream",
     "text": [
      "The optimal value is: 13\n"
     ]
    }
   ],
   "source": [
    "import math\n",
    "def minimax(depth, node_index, scores, height):\n",
    "    if depth == height:\n",
    "        return scores[node_index]\n",
    "    left_score = minimax(depth + 1, node_index * 2, scores, height)\n",
    "    right_score = minimax(depth + 1, node_index * 2 + 1, scores, height)\n",
    "    return max(left_score, right_score)\n",
    "scores = [7, 4, 8, 13, 5, -3, 7, 0, 4, 3, 1, 5]  \n",
    "height = math.log2(len(scores))  \n",
    "optimal_value = minimax(0, 0, scores, int(height))\n",
    "print(\"The optimal value is:\", optimal_value)\n"
   ]
  },
  {
   "cell_type": "code",
   "execution_count": null,
   "metadata": {},
   "outputs": [],
   "source": []
  }
 ],
 "metadata": {
  "kernelspec": {
   "display_name": "Python 3",
   "language": "python",
   "name": "python3"
  },
  "language_info": {
   "codemirror_mode": {
    "name": "ipython",
    "version": 3
   },
   "file_extension": ".py",
   "mimetype": "text/x-python",
   "name": "python",
   "nbconvert_exporter": "python",
   "pygments_lexer": "ipython3",
   "version": "3.12.0"
  }
 },
 "nbformat": 4,
 "nbformat_minor": 2
}
