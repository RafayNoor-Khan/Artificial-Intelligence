{
 "cells": [
  {
   "cell_type": "code",
   "execution_count": 1,
   "metadata": {},
   "outputs": [
    {
     "name": "stdout",
     "output_type": "stream",
     "text": [
      "Living Room: Current temperature = 19°C. Turn on heater.\n",
      "Bedroom: Current temperature = 22°C. Heater already off.\n",
      "Kitchen: Current temperature = 26°C. Heater already off.\n",
      "Bathroom: Current temperature = 24°C. Heater already off.\n"
     ]
    }
   ],
   "source": [
    "class ModelBasedReflexAgent:\n",
    "    def __init__(self, desired_temp):\n",
    "        self.desired_temp=desired_temp\n",
    "        self.previous_action={}\n",
    "\n",
    "    def perceive(self,current_temperature):\n",
    "        self.current_temperature=current_temperature\n",
    "\n",
    "    def act(self,room,current_temp):\n",
    "        if room not in self.previous_action:\n",
    "            self.previous_action[room]=\"Turn off heater\" \n",
    "        if current_temp<self.desired_temp:\n",
    "            if self.previous_action[room]!=\"Turn on heater\":\n",
    "                self.previous_action[room]=\"Turn on heater\"\n",
    "                action = \"Turn on heater\"\n",
    "            else:\n",
    "                action = \"Heater already on\"\n",
    "        else:\n",
    "            if self.previous_action[room] != \"Turn off heater\":\n",
    "                self.previous_action[room] = \"Turn off heater\"\n",
    "                action = \"Turn off heater\"\n",
    "            else:\n",
    "                action = \"Heater already off\"\n",
    "        return action\n",
    "\n",
    "rooms = {\n",
    "    \"Living Room\": 19,\n",
    "    \"Bedroom\": 22,\n",
    "    \"Kitchen\": 26,\n",
    "    \"Bathroom\": 24\n",
    "}\n",
    "desired_temperature = 22\n",
    "agent = ModelBasedReflexAgent(desired_temperature)\n",
    "for room, temperature in rooms.items():\n",
    "    action = agent.act(room, temperature)\n",
    "    print(f\"{room}: Current temperature = {temperature}°C. {action}.\")"
   ]
  },
  {
   "cell_type": "code",
   "execution_count": null,
   "metadata": {},
   "outputs": [],
   "source": []
  }
 ],
 "metadata": {
  "kernelspec": {
   "display_name": "Python 3",
   "language": "python",
   "name": "python3"
  },
  "language_info": {
   "codemirror_mode": {
    "name": "ipython",
    "version": 3
   },
   "file_extension": ".py",
   "mimetype": "text/x-python",
   "name": "python",
   "nbconvert_exporter": "python",
   "pygments_lexer": "ipython3",
   "version": "3.12.3"
  }
 },
 "nbformat": 4,
 "nbformat_minor": 2
}
